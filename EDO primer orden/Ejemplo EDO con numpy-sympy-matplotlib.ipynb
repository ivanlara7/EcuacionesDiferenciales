{
 "cells": [
  {
   "cell_type": "markdown",
   "id": "96981e11",
   "metadata": {},
   "source": [
    "# Solución de EDO y gráfica de la solución particular\n",
    "\n",
    "\n",
    "### Antes de comenzar con la escritura del codigo, es necesario instalar las librerías:\n",
    "\n",
    "conda install sympy\n",
    "\n",
    "conda install numpy\n",
    "\n",
    "conda install matplotlib\n",
    "\n",
    "conda install scipy\n",
    "\n",
    "conda install panda \n",
    "\n",
    "#### El código se encuentra posteado en mi Github además de la plantilla en blanco para que puedas seguirme al mismo tiempo\n",
    "\n",
    "Se propone la siguiente ecuación diferencial:\n",
    "\n",
    "\\begin{equation} \\frac{dx}{dy}=(x^{2}+2x)y \\end{equation}\n",
    "\n",
    "con valores iniciales:\n",
    "\n",
    "\\begin{equation}   y(0)=-3        \\end{equation} \n",
    "\n",
    "\n"
   ]
  },
  {
   "cell_type": "code",
   "execution_count": 126,
   "id": "4609d98f",
   "metadata": {},
   "outputs": [],
   "source": [
    "#Iniciamos importando y llamando las librerías que usaremos\n",
    "from sympy import*\n",
    "import numpy as np\n",
    "import matplotlib.pyplot as plt\n",
    "from scipy import integrate\n",
    "from math import e"
   ]
  },
  {
   "cell_type": "code",
   "execution_count": 127,
   "id": "29816a02",
   "metadata": {},
   "outputs": [
    {
     "data": {
      "text/latex": [
       "$\\displaystyle \\frac{d}{d x} y{\\left(x \\right)} = \\left(x^{2} + 2 x\\right) y{\\left(x \\right)}$"
      ],
      "text/plain": [
       "Eq(Derivative(y(x), x), (x**2 + 2*x)*y(x))"
      ]
     },
     "execution_count": 127,
     "metadata": {},
     "output_type": "execute_result"
    }
   ],
   "source": [
    "#resolvemos la ecuación con sympy para encontrar la solución particular\n",
    "x = symbols(\"x\")\n",
    "y = Function(\"y\")\n",
    "Eq(y(x).diff(),(x**(2)+2*x)*y(x))"
   ]
  },
  {
   "cell_type": "code",
   "execution_count": 128,
   "id": "ca0ed279",
   "metadata": {},
   "outputs": [],
   "source": [
    "#Establecemos los valores iniciales\n",
    "\n",
    "CI = {y(0):-3}"
   ]
  },
  {
   "cell_type": "code",
   "execution_count": 129,
   "id": "dd3d0ff2",
   "metadata": {},
   "outputs": [
    {
     "data": {
      "text/latex": [
       "$\\displaystyle y{\\left(x \\right)} = - 3 e^{x^{2} \\left(\\frac{x}{3} + 1\\right)}$"
      ],
      "text/plain": [
       "Eq(y(x), -3*exp(x**2*(x/3 + 1)))"
      ]
     },
     "execution_count": 129,
     "metadata": {},
     "output_type": "execute_result"
    }
   ],
   "source": [
    "#Solución de ecuación mediante la librería Sympy\n",
    "Solucion = Eq(y(x).diff(),(x**(2)+2*x)*y(x))\n",
    "dsolve(Solucion, y(x), ics = CI)"
   ]
  },
  {
   "cell_type": "code",
   "execution_count": 130,
   "id": "b85efb72",
   "metadata": {},
   "outputs": [],
   "source": [
    "#Ahora definimos la EDO con librería numpy para realizar la solución numérica\n",
    "\n",
    "def f(x,y):\n",
    "    return((x**(2)+2*x)*y)\n",
    "y3=-3"
   ]
  },
  {
   "cell_type": "code",
   "execution_count": 133,
   "id": "60e726d2",
   "metadata": {},
   "outputs": [],
   "source": [
    "#Establecemos los puntos en los que vamos a evaluar la solución particular\n",
    "x = np.linspace(0,5,100)\n",
    "SP = integrate.odeint(f, y3, x)"
   ]
  },
  {
   "cell_type": "code",
   "execution_count": 134,
   "id": "8857ad19",
   "metadata": {},
   "outputs": [
    {
     "data": {
      "image/png": "[encoded data removed]",
      "text/plain": [
       "<Figure size 432x288 with 1 Axes>"
      ]
     },
     "metadata": {
      "needs_background": "light"
     },
     "output_type": "display_data"
    }
   ],
   "source": [
    "fig, axes = plt.subplots()\n",
    "axes.plot(x,SP,'--')\n",
    "plt.show()"
   ]
  },
  {
   "cell_type": "code",
   "execution_count": null,
   "id": "cf97f815",
   "metadata": {},
   "outputs": [],
   "source": []
  }
 ],
 "metadata": {
  "kernelspec": {
   "display_name": "Python 3 (ipykernel)",
   "language": "python",
   "name": "python3"
  },
  "language_info": {
   "codemirror_mode": {
    "name": "ipython",
    "version": 3
   },
   "file_extension": ".py",
   "mimetype": "text/x-python",
   "name": "python",
   "nbconvert_exporter": "python",
   "pygments_lexer": "ipython3",
   "version": "3.9.5"
  }
 },
 "nbformat": 4,
 "nbformat_minor": 5
}
