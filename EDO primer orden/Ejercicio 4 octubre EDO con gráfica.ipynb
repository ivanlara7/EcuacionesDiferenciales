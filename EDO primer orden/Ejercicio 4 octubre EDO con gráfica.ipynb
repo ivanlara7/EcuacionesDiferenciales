{
 "cells": [
  {
   "cell_type": "markdown",
   "id": "81253e2d",
   "metadata": {},
   "source": [
    "# Solución de EDO y gráfica de la solución particular\n",
    "\n",
    "\n",
    "### Antes de comenzar con la escritura del codigo, es necesario instalar las librerías:\n",
    "\n",
    "conda install sympy\n",
    "\n",
    "conda install numpy\n",
    "\n",
    "conda install matplotlib\n",
    "\n",
    "conda install scipy\n",
    "\n",
    "conda install panda \n",
    "\n",
    "#### El código se encuentra posteado en mi Github además de la plantilla en blanco para que puedas seguirme al mismo tiempo:\n",
    "\n",
    "\n",
    "https://github.com/ivanlara7/EcuacionesDiferenciales\n",
    "\n",
    "###### Se propone la siguiente ecuación diferencial:\n",
    "\n",
    "\\begin{equation} \\frac{dx}{dy}=(x^{2}+2x)y \\end{equation}\n",
    "\n",
    "con valores iniciales:\n",
    "\n",
    "\\begin{equation}   y(0)=-3        \\end{equation} \n"
   ]
  },
  {
   "cell_type": "code",
   "execution_count": null,
   "id": "f272d735",
   "metadata": {},
   "outputs": [],
   "source": []
  }
 ],
 "metadata": {
  "kernelspec": {
   "display_name": "Python 3 (ipykernel)",
   "language": "python",
   "name": "python3"
  },
  "language_info": {
   "codemirror_mode": {
    "name": "ipython",
    "version": 3
   },
   "file_extension": ".py",
   "mimetype": "text/x-python",
   "name": "python",
   "nbconvert_exporter": "python",
   "pygments_lexer": "ipython3",
   "version": "3.9.5"
  }
 },
 "nbformat": 4,
 "nbformat_minor": 5
}
